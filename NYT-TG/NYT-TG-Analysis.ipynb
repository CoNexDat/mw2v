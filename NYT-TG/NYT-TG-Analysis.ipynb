{
 "cells": [
  {
   "cell_type": "code",
   "execution_count": 2,
   "metadata": {},
   "outputs": [],
   "source": [
    "%load_ext autoreload\n",
    "%autoreload 2"
   ]
  },
  {
   "cell_type": "code",
   "execution_count": 3,
   "metadata": {},
   "outputs": [
    {
     "name": "stderr",
     "output_type": "stream",
     "text": [
      "/home/cselmo/miniconda3/envs/NLP/lib/python3.7/site-packages/sklearn/externals/joblib/__init__.py:15: DeprecationWarning: sklearn.externals.joblib is deprecated in 0.21 and will be removed in 0.23. Please import this functionality directly from joblib, which can be installed with: pip install joblib. If this warning is raised when loading pickled models, you may need to re-serialize those models with scikit-learn 0.21+.\n",
      "  warnings.warn(msg, category=DeprecationWarning)\n"
     ]
    }
   ],
   "source": [
    "from SimiLab import tempName\n",
    "import pickle\n",
    "from pathlib import Path\n",
    "import numpy as np"
   ]
  },
  {
   "cell_type": "code",
   "execution_count": 7,
   "metadata": {},
   "outputs": [],
   "source": [
    "folder = \"NYT-TG\"\n",
    "word_index_file = Path(folder+\"/word_index-NYT-TG.pkl\")\n",
    "slices_file = Path(folder+\"/slices-NYT-TG.pkl\")\n",
    "sampling_tables_file = Path(folder+\"/sampling_tables-NYT-TG.pkl\")\n",
    "mean_file = Path(folder+\"/mean-NYT-TG.pck\")\n",
    "deltas_file = Path(folder+\"/delta-NYT-TG.pck\")\n",
    "test_sim_file = Path(folder+\"/testset_sim-NYT-TG.csv\")\n",
    "test_cluster_file = Path(folder+\"/testset_cluster_NYT-TG.csv\")"
   ]
  },
  {
   "cell_type": "code",
   "execution_count": 8,
   "metadata": {},
   "outputs": [],
   "source": [
    "with word_index_file.open(\"rb\") as f:\n",
    "    word_index = pickle.load(f)\n",
    "    \n",
    "with slices_file.open(\"rb\") as f:\n",
    "    slices = pickle.load(f)\n",
    "    \n",
    "with sampling_tables_file.open(\"rb\") as f:\n",
    "    sampling_tables = pickle.load(f)\n",
    "    \n",
    "with mean_file.open(\"rb\") as f:\n",
    "    mean = pickle.load(f)\n",
    "\n",
    "with deltas_file.open(\"rb\") as f:\n",
    "    deltas = pickle.load(f)"
   ]
  },
  {
   "cell_type": "code",
   "execution_count": 9,
   "metadata": {},
   "outputs": [],
   "source": [
    "# Create the embeddings matrices\n",
    "embs = list()\n",
    "yearDict= dict()\n",
    "vocabularies =  list()\n",
    "for idx, slc in enumerate(slices):\n",
    "    mask=np.array(sampling_tables[slc]) !=0\n",
    "    embs.append((mean + deltas[slc])[mask,:])\n",
    "    yearDict[slc]=idx\n",
    "    vocabulary = np.array(list(word_index.keys()))[mask]\n",
    "    vocabulary = {word:index for index,word in enumerate(vocabulary)}\n",
    "    vocabularies.append(vocabulary)"
   ]
  },
  {
   "cell_type": "code",
   "execution_count": 10,
   "metadata": {},
   "outputs": [],
   "source": [
    "sim_class= tempName(embs, yearDict, vocabularies)"
   ]
  },
  {
   "cell_type": "code",
   "execution_count": 11,
   "metadata": {},
   "outputs": [],
   "source": [
    "vector = sim_class.getVector(\"cameron\",\"tg\")"
   ]
  },
  {
   "cell_type": "code",
   "execution_count": 12,
   "metadata": {},
   "outputs": [
    {
     "data": {
      "text/plain": [
       "{'obama': 0.79266864,\n",
       " 'secretary': 0.74733526,\n",
       " 'blasio': 0.72890615,\n",
       " 'bush': 0.72106296,\n",
       " 'president': 0.7104401,\n",
       " 'cabinet': 0.6933747,\n",
       " 'christie': 0.6899376,\n",
       " 'administration': 0.67981404,\n",
       " 'appeared': 0.67205334,\n",
       " 'clinton': 0.66997826}"
      ]
     },
     "execution_count": 12,
     "metadata": {},
     "output_type": "execute_result"
    }
   ],
   "source": [
    "sim_class.findSimilars2Vec(vector, \"nyt\",maxWords=10)"
   ]
  },
  {
   "cell_type": "code",
   "execution_count": 13,
   "metadata": {},
   "outputs": [
    {
     "data": {
      "text/plain": [
       "{'obama': 0.79266864,\n",
       " 'secretary': 0.74733526,\n",
       " 'blasio': 0.72890615,\n",
       " 'bush': 0.72106296,\n",
       " 'president': 0.7104401,\n",
       " 'cabinet': 0.6933747,\n",
       " 'christie': 0.6899376,\n",
       " 'administration': 0.67981404,\n",
       " 'appeared': 0.67205334,\n",
       " 'clinton': 0.66997826,\n",
       " 'obama’s': 0.6566844,\n",
       " 'elected': 0.6560358,\n",
       " 'aides': 0.65598476,\n",
       " 'budget': 0.6553111,\n",
       " 'mayor': 0.65182495,\n",
       " 'criticism': 0.64337313,\n",
       " 'tuesday': 0.6429299,\n",
       " 'declared': 0.64168715,\n",
       " 'criticized': 0.6382894,\n",
       " 'congress': 0.63545126}"
      ]
     },
     "execution_count": 13,
     "metadata": {},
     "output_type": "execute_result"
    }
   ],
   "source": [
    "sim_class.findSimilars2Vec(vector, \"nyt\",maxWords=20)"
   ]
  },
  {
   "cell_type": "code",
   "execution_count": 14,
   "metadata": {},
   "outputs": [
    {
     "data": {
      "text/plain": [
       "{'bush': 1.0,\n",
       " 'george': 0.75994945,\n",
       " 'w': 0.71676475,\n",
       " 'clinton': 0.71552384,\n",
       " 'john': 0.7147993,\n",
       " 'obama': 0.7136402,\n",
       " 'reagan': 0.6902181,\n",
       " 'mrs': 0.67815137,\n",
       " 'declared': 0.6287072,\n",
       " 'bush’s': 0.62697166}"
      ]
     },
     "execution_count": 14,
     "metadata": {},
     "output_type": "execute_result"
    }
   ],
   "source": [
    "sim_class.findSimilars2Word(\"bush\",\"nyt\",maxWords=10)"
   ]
  },
  {
   "cell_type": "code",
   "execution_count": 19,
   "metadata": {},
   "outputs": [
    {
     "data": {
      "image/png": "[encoded data removed]",
      "text/plain": [
       "<Figure size 648x144 with 1 Axes>"
      ]
     },
     "metadata": {
      "needs_background": "light"
     },
     "output_type": "display_data"
    }
   ],
   "source": [
    "ref_word= \"messi\"\n",
    "ref_year= \"tg\"\n",
    "maxWords = 8\n",
    "track_list =[]\n",
    "file = f\"evo_NYT-TG_{ref_word}_{ref_year}.pdf\"\n",
    "sim_class.plotEvo(ref_word,ref_year, maxWords,track_list,figsize=(9,2),file=file)"
   ]
  },
  {
   "cell_type": "code",
   "execution_count": 531,
   "metadata": {},
   "outputs": [
    {
     "name": "stdout",
     "output_type": "stream",
     "text": [
      "aegean aegean\n",
      "archaeological archaeological\n",
      "archaeologist archaeologist\n",
      "archaeologists archaeologists\n",
      "archaeology archaeology\n",
      "bused bussed\n",
      "centre center\n",
      "deflection deflection\n",
      "dive dove\n",
      "doughnuts donuts\n",
      "endeavour endeavor\n",
      "gauge gauge\n",
      "gauged gauged\n",
      "gauging gauging\n",
      "grey gray\n",
      "harbour harbor\n",
      "labour labor\n",
      "labour labor\n",
      "partisan partizan\n",
      "storey story\n",
      "theatre theater\n",
      "tranquillity tranquility\n",
      "whisky whiskey\n",
      "Total 23\n",
      "Baseline: 0.391304347826087\n"
     ]
    },
    {
     "data": {
      "text/plain": [
       "[0.391304347826087,\n",
       " 0.391304347826087,\n",
       " 0.391304347826087,\n",
       " 0.391304347826087,\n",
       " 0.391304347826087]"
      ]
     },
     "execution_count": 531,
     "metadata": {},
     "output_type": "execute_result"
    }
   ],
   "source": [
    "sim_class.sim_tests(test_sim_file, n_neighbors=[1,3,5,10])"
   ]
  },
  {
   "cell_type": "code",
   "execution_count": 532,
   "metadata": {},
   "outputs": [
    {
     "data": {
      "text/plain": [
       "{'NMI(10)': 0.6582680275836703,\n",
       " 'F_beta-score(10)': 0.6911866886486223,\n",
       " 'NMI(15)': 0.730287461301854,\n",
       " 'F_beta-score(15)': 0.6686426563067949,\n",
       " 'NMI(20)': 0.7017164659451998,\n",
       " 'F_beta-score(20)': 0.5245949895052548}"
      ]
     },
     "execution_count": 532,
     "metadata": {},
     "output_type": "execute_result"
    }
   ],
   "source": [
    "sim_class.cluster_test(test_cluster_file, clusters=[10,15,20])"
   ]
  },
  {
   "cell_type": "code",
   "execution_count": 533,
   "metadata": {},
   "outputs": [
    {
     "data": {
      "text/plain": [
       "63071"
      ]
     },
     "execution_count": 533,
     "metadata": {},
     "output_type": "execute_result"
    }
   ],
   "source": [
    "len(word_index)"
   ]
  },
  {
   "cell_type": "code",
   "execution_count": 534,
   "metadata": {},
   "outputs": [
    {
     "data": {
      "text/plain": [
       "{'cameron': 0.5605171,\n",
       " 'labour': 0.5291797,\n",
       " 'berlusconi': 0.52462363,\n",
       " 'obama': 0.46098864,\n",
       " 'aides': 0.45416018,\n",
       " 'gingrich': 0.4363283,\n",
       " 'democratic': 0.4339284,\n",
       " 'secretary': 0.4310413,\n",
       " 'campaigning': 0.43081933,\n",
       " 'sarkozy': 0.42777297}"
      ]
     },
     "execution_count": 534,
     "metadata": {},
     "output_type": "execute_result"
    }
   ],
   "source": [
    "sim_class.findSimilars2Vec(vector,\"nyt\",maxWords=10)"
   ]
  },
  {
   "cell_type": "code",
   "execution_count": 535,
   "metadata": {},
   "outputs": [],
   "source": [
    "word = \"cameron\"\n",
    "slice_ref = \"tg\"\n",
    "slice_to = \"nyt\"\n",
    "vector = sim_class.getVector(word,slice_ref)\n",
    "lista_ref = list(sim_class.findSimilars2Vec(vector,slice_ref,maxWords=1).keys())\n",
    "lista_to = list(sim_class.findSimilars2Vec(vector,slice_to,maxWords=1000).keys())\n",
    "if word in sim_class.vocabularies[sim_class.yearDict[slice_to]]:\n",
    "    lista_to.insert(1,word)\n",
    "vectors = list()\n",
    "for word in lista_ref:\n",
    "    vec = sim_class.getVector(word,\"tg\")\n",
    "    vec = vec / np.linalg.norm(vec)\n",
    "    vectors.append(vec)\n",
    "for word in lista_to:\n",
    "    vec = sim_class.getVector(word,\"nyt\")\n",
    "    vec = vec / np.linalg.norm(vec)\n",
    "    vectors.append(vec)\n"
   ]
  },
  {
   "cell_type": "code",
   "execution_count": 536,
   "metadata": {},
   "outputs": [
    {
     "data": {
      "text/plain": [
       "1002"
      ]
     },
     "execution_count": 536,
     "metadata": {},
     "output_type": "execute_result"
    }
   ],
   "source": [
    "len(vectors)"
   ]
  },
  {
   "cell_type": "code",
   "execution_count": 537,
   "metadata": {},
   "outputs": [],
   "source": [
    "from sklearn.manifold import TSNE\n",
    "def tsne_plot(tokens,list_ref,list_to):\n",
    "    labels = list_ref + list_to\n",
    "    tsne_model = TSNE(perplexity=10, n_components=2, init='pca', n_iter=2500, learning_rate=200, metric=\"cosine\")\n",
    "    new_values = tsne_model.fit_transform(tokens)\n",
    "    x = []\n",
    "    y = []\n",
    "    for value in new_values:\n",
    "        x.append(value[0])\n",
    "        y.append(value[1])\n",
    "        \n",
    "    plt.figure(figsize=(16, 16)) \n",
    "    for i in range(1,min(len(list_ref),10)):\n",
    "        plt.scatter(x[i],y[i],c=\"b\")\n",
    "        plt.annotate(labels[i],\n",
    "                     xy=(x[i], y[i]),\n",
    "                     xytext=(5, 2),\n",
    "                     textcoords='offset points',\n",
    "                     ha='right',\n",
    "                     va='bottom',\n",
    "                     c='b')\n",
    "    for i in range(len(list_ref)+2,min(len(list_ref)+len(list_to),10+len(list_ref)+2)):\n",
    "        plt.scatter(x[i],y[i],c=\"r\",s=20)\n",
    "        plt.annotate(labels[i],\n",
    "                     xy=(x[i], y[i]),\n",
    "                     xytext=(5, 2),\n",
    "                     textcoords='offset points',\n",
    "                     ha='right',\n",
    "                     va='bottom',\n",
    "                    c='r')\n",
    "    plt.scatter(x[0],y[0],c=\"b\", s=50)\n",
    "    plt.annotate(labels[0],\n",
    "                 xy=(x[0], y[0]),\n",
    "                 xytext=(5, 2),\n",
    "                 textcoords='offset points',\n",
    "                 ha='right',\n",
    "                 va='bottom',\n",
    "                 c='b',\n",
    "                 fontsize = 20)\n",
    "    plt.scatter(x[len(list_ref)],y[len(list_ref)],c=\"r\", s=50)\n",
    "    plt.annotate(labels[len(list_ref)],\n",
    "                 xy=(x[len(list_ref)], y[len(list_ref)]),\n",
    "                 xytext=(5, 2),\n",
    "                 textcoords='offset points',\n",
    "                 ha='right',\n",
    "                 va='bottom',\n",
    "                 c='r',\n",
    "                 fontsize = 20)\n",
    "    plt.scatter(x[len(list_ref)+1],y[len(list_ref)+1],c=\"r\", s=50)\n",
    "    plt.annotate(labels[len(list_ref)+1],\n",
    "                 xy=(x[len(list_ref)+1], y[len(list_ref)+1]),\n",
    "                 xytext=(5, 2),\n",
    "                 textcoords='offset points',\n",
    "                 ha='right',\n",
    "                 va='bottom',\n",
    "                 c='r',\n",
    "                 fontsize = 20)\n",
    "    plt.savefig(\"tsne.png\")\n",
    "    plt.show()"
   ]
  },
  {
   "cell_type": "code",
   "execution_count": 538,
   "metadata": {},
   "outputs": [
    {
     "data": {
      "image/png": "[encoded data removed]",
      "text/plain": [
       "<Figure size 1152x1152 with 1 Axes>"
      ]
     },
     "metadata": {
      "needs_background": "light"
     },
     "output_type": "display_data"
    }
   ],
   "source": [
    "from matplotlib import pyplot as plt\n",
    "tsne_plot(vectors, lista_ref, lista_to)"
   ]
  },
  {
   "cell_type": "code",
   "execution_count": 429,
   "metadata": {},
   "outputs": [
    {
     "data": {
      "text/plain": [
       "True"
      ]
     },
     "execution_count": 429,
     "metadata": {},
     "output_type": "execute_result"
    }
   ],
   "source": [
    "\"johnson\" in sim_class.vocabularies[0]"
   ]
  },
  {
   "cell_type": "code",
   "execution_count": 380,
   "metadata": {},
   "outputs": [
    {
     "data": {
      "text/plain": [
       "['cameron']"
      ]
     },
     "execution_count": 380,
     "metadata": {},
     "output_type": "execute_result"
    }
   ],
   "source": [
    "lista_ref"
   ]
  },
  {
   "cell_type": "code",
   "execution_count": 382,
   "metadata": {},
   "outputs": [
    {
     "data": {
      "text/plain": [
       "'obama'"
      ]
     },
     "execution_count": 382,
     "metadata": {},
     "output_type": "execute_result"
    }
   ],
   "source": [
    "lista_to[1]"
   ]
  },
  {
   "cell_type": "code",
   "execution_count": null,
   "metadata": {},
   "outputs": [],
   "source": []
  }
 ],
 "metadata": {
  "kernelspec": {
   "display_name": "Python 3.7.3 (NLP)",
   "language": "python",
   "name": "nlp"
  },
  "language_info": {
   "codemirror_mode": {
    "name": "ipython",
    "version": 3
   },
   "file_extension": ".py",
   "mimetype": "text/x-python",
   "name": "python",
   "nbconvert_exporter": "python",
   "pygments_lexer": "ipython3",
   "version": "3.7.3"
  }
 },
 "nbformat": 4,
 "nbformat_minor": 2
}
